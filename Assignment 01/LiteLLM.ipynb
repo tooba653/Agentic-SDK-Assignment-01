{
 "cells": [
  {
   "cell_type": "code",
   "execution_count": null,
   "id": "a85a61c5",
   "metadata": {
    "vscode": {
     "languageId": "plaintext"
    }
   },
   "outputs": [],
   "source": [
    "\n",
    "\n",
    "!pip install -Uq openai-agents \"openai-agents[litellm]\"\n",
    "     \n",
    "     ━━━━━━━━━━━━━━━━━━━━━━━━━━━━━━━━━━━━━━━━ 61.0/61.0 kB 4.2 MB/s eta 0:00:00\n",
    "     ━━━━━━━━━━━━━━━━━━━━━━━━━━━━━━━━━━━━━━━━ 40.4/40.4 kB 1.6 MB/s eta 0:00:00\n",
    "   ━━━━━━━━━━━━━━━━━━━━━━━━━━━━━━━━━━━━━━━━ 161.1/161.1 kB 7.2 MB/s eta 0:00:00\n",
    "   ━━━━━━━━━━━━━━━━━━━━━━━━━━━━━━━━━━━━━━━━ 129.3/129.3 kB 8.6 MB/s eta 0:00:00\n",
    "   ━━━━━━━━━━━━━━━━━━━━━━━━━━━━━━━━━━━━━━━━ 8.7/8.7 MB 39.0 MB/s eta 0:00:00\n",
    "   ━━━━━━━━━━━━━━━━━━━━━━━━━━━━━━━━━━━━━━━━ 158.5/158.5 kB 5.9 MB/s eta 0:00:00\n",
    "   ━━━━━━━━━━━━━━━━━━━━━━━━━━━━━━━━━━━━━━━━ 45.2/45.2 kB 3.0 MB/s eta 0:00:00\n",
    "\n",
    "import nest_asyncio\n",
    "nest_asyncio.apply()\n",
    "     \n",
    "\n",
    "from google.colab import userdata\n",
    "GEMINI_API_KEY = userdata.get(\"gemini_api_key\")\n",
    "     \n",
    "\n",
    "from agents import Agent, Runner, function_tool\n",
    "from agents.extensions.models.litellm_model import LitellmModel\n",
    "\n",
    "MODEL = 'gemini/gemini-2.0-flash'\n",
    "\n",
    "@function_tool\n",
    "def get_weather(city: str) -> str:\n",
    "    print(f\"[debug] getting weather for {city}\")\n",
    "    return f\"The weather in {city} is sunny.\"\n",
    "\n",
    "agent = Agent(\n",
    "    name=\"Assistant\",\n",
    "    instructions=\"You only respond in haikus.\",\n",
    "    model=LitellmModel(model=MODEL, api_key=GEMINI_API_KEY),\n",
    ")\n",
    "\n",
    "result = Runner.run_sync(agent, \"What's the weather in Pakistan ?\")\n",
    "print(result.final_output)\n",
    "     \n",
    "Skies are clear and bright,\n",
    "Gentle breeze whispers softly,\n",
    "Warm sun shines on all.\n"
   ]
  }
 ],
 "metadata": {
  "language_info": {
   "name": "python"
  }
 },
 "nbformat": 4,
 "nbformat_minor": 5
}
